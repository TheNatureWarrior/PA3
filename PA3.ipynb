{
 "cells": [
  {
   "cell_type": "markdown",
   "id": "2fd761f7",
   "metadata": {},
   "source": [
    "# Programming Assignment 3\n",
    "## Naat Ambrosino\n",
    "### CS 150-01 FA21 Professor Sarkar"
   ]
  },
  {
   "cell_type": "markdown",
   "id": "6740e365",
   "metadata": {},
   "source": [
    "##### Part A"
   ]
  },
  {
   "cell_type": "code",
   "execution_count": 35,
   "id": "8d6f540c",
   "metadata": {},
   "outputs": [],
   "source": [
    "import math\n",
    "from decimal import Decimal\n",
    "import random"
   ]
  },
  {
   "cell_type": "code",
   "execution_count": 16,
   "id": "a2a4068f",
   "metadata": {},
   "outputs": [],
   "source": [
    "def calcPerimeter(lengthA=1,lengthB=1,lengthC=1):\n",
    "    \"\"\"Calculate the perimeter of a triangle with given sides A, B, and C\"\"\"\n",
    "    \"\"\"If user does not provide 1 or more side lengths,\"\"\"\n",
    "    \"\"\"calcPerimeter will fill in 1 for missing length values.\"\"\"\n",
    "    return lengthA + lengthB + lengthC"
   ]
  },
  {
   "cell_type": "code",
   "execution_count": 27,
   "id": "8bd72700",
   "metadata": {},
   "outputs": [],
   "source": [
    "def calcArea(lengthA=1,lengthB=1,lengthC=1):\n",
    "    \"\"\"Calculate the area of a triangle with given sides A, B, and C.\"\"\"\n",
    "    \"\"\"If user does not provide 1 or more side lengths,\"\"\"\n",
    "    \"\"\"calcArea will fill in 1 for missing length values.\"\"\"\n",
    "    s = (calcPerimeter(lengthA,lengthB,lengthC))/2\n",
    "    return math.sqrt(s*(s-lengthA)*(s-lengthB)*(s-lengthC))"
   ]
  },
  {
   "cell_type": "code",
   "execution_count": 28,
   "id": "a9391b55",
   "metadata": {},
   "outputs": [
    {
     "data": {
      "text/plain": [
       "5"
      ]
     },
     "execution_count": 28,
     "metadata": {},
     "output_type": "execute_result"
    }
   ],
   "source": [
    "calcPerimeter()"
   ]
  },
  {
   "cell_type": "code",
   "execution_count": 29,
   "id": "6f7d280d",
   "metadata": {},
   "outputs": [
    {
     "data": {
      "text/plain": [
       "0.4330127018922193"
      ]
     },
     "execution_count": 29,
     "metadata": {},
     "output_type": "execute_result"
    }
   ],
   "source": [
    "calcArea()"
   ]
  },
  {
   "cell_type": "code",
   "execution_count": 34,
   "id": "756aa998",
   "metadata": {},
   "outputs": [
    {
     "name": "stdout",
     "output_type": "stream",
     "text": [
      "Enter the length of side A: 5\n",
      "Enter the length of side B: 5\n",
      "Enter the length of side C: 5\n",
      "The area of the triangle is approximately 10.8253 square units.\n",
      "The perimeter of the triangle is 15 linear units.\n"
     ]
    }
   ],
   "source": [
    "A = Decimal(input(\"Enter the length of side A: \"))\n",
    "B =Decimal(input(\"Enter the length of side B: \"))\n",
    "C=Decimal(input(\"Enter the length of side C: \"))\n",
    "print(\"The area of the triangle is approximately\", f'{calcArea(A,B,C):.4f}', \"square units.\")\n",
    "print(\"The perimeter of the triangle is\", calcPerimeter(A,B,C), \"linear units.\")"
   ]
  },
  {
   "cell_type": "code",
   "execution_count": 64,
   "id": "a921e140",
   "metadata": {},
   "outputs": [
    {
     "name": "stdout",
     "output_type": "stream",
     "text": [
      "Guess a number between 1 and 1000!\n",
      "Enter your guess: 500\n",
      "Too high! Guess again!\n",
      "Enter your guess: 250\n",
      "Too low! Guess again!\n",
      "Enter your guess: 400\n",
      "Too high! Guess again!\n",
      "Enter your guess: 300\n",
      "Too low! Guess again!\n",
      "Enter your guess: 350\n",
      "Too low! Guess again!\n",
      "Enter your guess: 375\n",
      "Too high! Guess again!\n",
      "Enter your guess: 360\n",
      "Too low! Guess again!\n",
      "Enter your guess: 370\n",
      "Correct!\n"
     ]
    }
   ],
   "source": [
    "theSuperSecretNumber=random.randrange(1,1001)\n",
    "print(\"Guess a number between 1 and 1000!\")\n",
    "def evaluateGuess(guess):\n",
    "    if guess>1000 or guess<1:\n",
    "        return \"Not in range! How are you so bad at this?\"\n",
    "    elif theSuperSecretNumber==guess:\n",
    "        return \"Correct!\"\n",
    "    elif theSuperSecretNumber<guess:\n",
    "        return \"Too high! Guess again!\"\n",
    "    else:\n",
    "        return \"Too low! Guess again!\"\n",
    "guess=0\n",
    "while guess!=theSuperSecretNumber:\n",
    "    guess= int(input(\"Enter your guess: \"))\n",
    "    print(evaluateGuess(guess))\n",
    "        "
   ]
  },
  {
   "cell_type": "code",
   "execution_count": 62,
   "id": "15dfc504",
   "metadata": {},
   "outputs": [
    {
     "name": "stdout",
     "output_type": "stream",
     "text": [
      "The mean temperature for the past 1 days is 1.00 degrees F.\n"
     ]
    }
   ],
   "source": [
    "temperatureSet1=[1]\n",
    "def meanTemp(temperatureSet):\n",
    "    total=0\n",
    "    for temperature in temperatureSet:\n",
    "        total=total+temperature\n",
    "    return total/len(temperatureSet)\n",
    "print(\"The mean temperature for the past\", len(temperatureSet1) , \"days is\",f'{meanTemp(temperatureSet1):.2f}' , \"degrees F.\")"
   ]
  },
  {
   "cell_type": "code",
   "execution_count": null,
   "id": "6bdb6fc5",
   "metadata": {},
   "outputs": [],
   "source": []
  },
  {
   "cell_type": "code",
   "execution_count": null,
   "id": "0f30b8cf",
   "metadata": {},
   "outputs": [],
   "source": []
  }
 ],
 "metadata": {
  "kernelspec": {
   "display_name": "Python 3",
   "language": "python",
   "name": "python3"
  },
  "language_info": {
   "codemirror_mode": {
    "name": "ipython",
    "version": 3
   },
   "file_extension": ".py",
   "mimetype": "text/x-python",
   "name": "python",
   "nbconvert_exporter": "python",
   "pygments_lexer": "ipython3",
   "version": "3.8.8"
  }
 },
 "nbformat": 4,
 "nbformat_minor": 5
}
